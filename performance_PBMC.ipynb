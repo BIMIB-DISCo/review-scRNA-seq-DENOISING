{
 "cells": [
  {
   "cell_type": "code",
   "execution_count": null,
   "metadata": {},
   "outputs": [],
   "source": [
    "import scipy.sparse\n",
    "from anndata import AnnData\n",
    "import scanpy as sc\n",
    "import matplotlib.pyplot as plt\n",
    "import numpy as np\n",
    "import os\n",
    "import re\n",
    "import pandas as pd\n",
    "from sklearn.metrics import adjusted_rand_score as rand\n",
    "import seaborn as sns\n",
    "from sklearn.cluster import KMeans\n",
    "from tqdm.notebook import tqdm"
   ]
  },
  {
   "cell_type": "code",
   "execution_count": 3,
   "metadata": {},
   "outputs": [],
   "source": [
    "work_dir = \"\" # Path to the directory where the repository was cloned\n",
    "os.chdir(work_dir)"
   ]
  },
  {
   "cell_type": "code",
   "execution_count": 11,
   "metadata": {},
   "outputs": [],
   "source": [
    "def compute_silhouette_clustering(adata, key, figures_dir=None, figure_name=None):\n",
    "    # Pre-process the data for clustering\n",
    "    sc.pp.log1p(adata)\n",
    "    num_pca=50\n",
    "    adata.layers['unscaled'] = adata.X.copy()\n",
    "    sc.pp.scale(adata)\n",
    "    sc.tl.pca(adata, n_comps=num_pca, svd_solver=\"arpack\", random_state=0)\n",
    "\n",
    "    # kmeans clustering\n",
    "    kmeans = KMeans(n_clusters=9, random_state=0).fit(adata.X)\n",
    "    adata.obs['kmeans'] = list(kmeans.labels_)\n",
    "    \n",
    "    # Compute performances\n",
    "    ari_k = rand(labels_true=adata.obs[key].values,\n",
    "                 labels_pred=adata.obs['kmeans'].values)\n",
    "    \n",
    "    if figures_dir:\n",
    "        p = sc.pl.pca(adata, color=key, return_fig=True, title = f\"{figure_name} PCA\")\n",
    "        p.savefig(f\"{figures_dir}/{figure_name}_pca.png\", \n",
    "                  dpi=300,\n",
    "                 bbox_inches=\"tight\")\n",
    "        plt.close(p)\n",
    "        p = sc.pl.pca(adata, color='kmeans', return_fig=True, title = f\"{figure_name} kmeans\")\n",
    "        p.savefig(f\"{figures_dir}/{figure_name}_kmeans.png\", \n",
    "                  dpi=300,\n",
    "                 bbox_inches=\"tight\")\n",
    "        plt.close(p)   \n",
    "    return ari_k"
   ]
  },
  {
   "cell_type": "code",
   "execution_count": 5,
   "metadata": {},
   "outputs": [],
   "source": [
    "def read_normalize_denoised(d, data_dir,experiment_name):\n",
    "\n",
    "    print(f\"Denoiser: {d}\")\n",
    "    print(f\"Path to denoised: {data_dir}/denoised_{d}/{experiment_name}_denoised_{d}.csv\")\n",
    "    if d== \"saverx\":\n",
    "        # SAVER-X leaves some values NA, so we set them to 0\n",
    "        adata = pd.read_csv(f\"{data_dir}/denoised_{d}/{experiment_name}_denoised_{d}.csv\", na_values='NA')\n",
    "        print(f\"SAVERX: number of nan: {sum(sum(np.isnan(adata.values)))} out of {adata.shape[0] * adata.shape[1]}\")\n",
    "        adata = adata.fillna(0)\n",
    "        adata = AnnData(adata)\n",
    "        adata = adata.transpose()\n",
    "    else:\n",
    "        adata = sc.read_csv(f\"{data_dir}/denoised_{d}/{experiment_name}_denoised_{d}.csv\")\n",
    "        adata = adata.transpose()\n",
    "        \n",
    "    # ALRA and DrImpute give log-normalized data \n",
    "    if d in [\"DRimpute\", 'ALRA']:\n",
    "        print(\"Normalizing data for DRIMPUTE ALRA\")\n",
    "        adata.X = np.expm1(adata.X)\n",
    "        \n",
    "    sc.pp.normalize_total(adata, target_sum=1e4)\n",
    "    \n",
    "    return adata"
   ]
  },
  {
   "cell_type": "code",
   "execution_count": null,
   "metadata": {},
   "outputs": [],
   "source": [
    "data_directory = \"./pbmc/csv_mostvar/\"\n",
    "noise_dir = f\"{data_directory}/noise_filt\"\n",
    "\n",
    "# Retrieve filenames for each dataset with noise\n",
    "filenames = os.listdir(noise_dir)\n",
    "experiments = [re.sub(\"_noise.csv\", \"\", x) for x in filenames]\n",
    "\n",
    "# Retrieve the denoisers list\n",
    "denoisers = os.listdir(data_directory)\n",
    "denoisers = [x.split(\"_\")[1] for \n",
    "             x \n",
    "             in \n",
    "             denoisers \n",
    "             if (\"denoised\" in x) and (\"scRecover\" not in x)]"
   ]
  },
  {
   "cell_type": "code",
   "execution_count": 5,
   "metadata": {},
   "outputs": [],
   "source": [
    "# Read the file with cell type information about each PBMC\n",
    "annotations = pd.read_csv(\"pbmc/annotation_file.csv\",\n",
    "                          index_col=0)"
   ]
  },
  {
   "cell_type": "code",
   "execution_count": 9,
   "metadata": {},
   "outputs": [],
   "source": [
    "# Set this value if you want to save pca plot of each dataset.\n",
    "figures_directory = \"\" \n",
    "os.makedirs(figures_directory,\n",
    "            exist_ok=True)"
   ]
  },
  {
   "cell_type": "code",
   "execution_count": null,
   "metadata": {},
   "outputs": [],
   "source": [
    "\"\"\"\n",
    "Instantiate the list \"results\" that will contain:\n",
    "    - one line per setting (i.e. before denoising and each denoised version)\n",
    "    - in each line we have the ARI calculated on k-means result\n",
    "\"\"\"\n",
    "\n",
    "results = []\n",
    "data_dir = \"pbmc/csv_mostvar/\"\n",
    "for f in tqdm(filenames):\n",
    "    # Read dataset with noise\n",
    "    adata_tmp = sc.read_csv(f\"{noise_dir}/{f}\")\n",
    "    adata_tmp = adata_tmp.transpose()\n",
    "    experiment_name = re.sub(\"_noise.csv$\",\"\", f)\n",
    "    \n",
    "    # Now associate the celltype to each cell\n",
    "    assert sum(adata_tmp.obs_names == annotations.index.values) == adata_tmp.shape[0]\n",
    "    adata_tmp.obs.index = [x.replace(\".\", \"-\") for x in adata_tmp.obs_names]\n",
    "    adata_tmp.obs = annotations.copy()\n",
    "    \n",
    "    sc.pp.normalize_total(adata_tmp, target_sum=1e4)\n",
    "\n",
    "    ari_k = compute_silhouette_clustering(adata_tmp, \n",
    "                                          key='celltype', \n",
    "                                          figures_dir = figures_directory,\n",
    "                                          figure_name = f\"{experiment_name}_noise\")\n",
    "    \n",
    "    ncells = adata_tmp.shape[0]\n",
    "    ngenes = adata_tmp.shape[1]  \n",
    "    results.append([experiment_name, \n",
    "                    \"before denoising\", \n",
    "                    ncells, \n",
    "                    ngenes, \n",
    "                    ari_k])\n",
    "    \n",
    "    # Now read all denoised versions for the current dataset\n",
    "    for d in tqdm(denoisers):\n",
    "        adata_denoised = read_normalize_denoised(d=d, \n",
    "                                                 data_dir=data_dir, \n",
    "                                                 experiment_name=experiment_name)\n",
    "        adata_denoised.obs.index = [x.replace(\".\", \"-\") for x in adata_denoised.obs_names]\n",
    "        assert adata_tmp.shape == adata_denoised.shape\n",
    "        assert sum(adata_denoised.obs_names == annotations.index.values) == adata_denoised.shape[0]\n",
    "        adata_denoised.obs = annotations.copy()\n",
    "        sil, ari_k, k = compute_silhouette_clustering(adata_denoised,\n",
    "                                                      key='celltype',\n",
    "                                                      figures_dir=\"pbmc/figures_kmeans/\",\n",
    "                                                      figure_name=f\"{experiment_name}_{d}\")\n",
    "        results.append([experiment_name, \n",
    "                        d, \n",
    "                        ncells, \n",
    "                        ngenes,\n",
    "                        ari_k])"
   ]
  },
  {
   "cell_type": "code",
   "execution_count": 6,
   "metadata": {},
   "outputs": [],
   "source": [
    "df = pd.DataFrame(results, columns=[\"experiment\", \n",
    "                                    \"method\", \n",
    "                                    \"ncells\", \n",
    "                                    \"ngenes\", \n",
    "                                   \"ARI kmeans\"])"
   ]
  },
  {
   "cell_type": "code",
   "execution_count": 7,
   "metadata": {},
   "outputs": [],
   "source": [
    "experiments = [re.sub(\"_noise.csv$\",\"\", f) for f in filenames]\n",
    "\n",
    "ari_k_before = {}\n",
    "for e in experiments:\n",
    "    tmp = df[(df[\"experiment\"] == e) & (df[\"method\"] == \"before denoising\")]\n",
    "    ari_k_before[e] = list(tmp[\"ARI kmeans\"])[0]"
   ]
  },
  {
   "cell_type": "code",
   "execution_count": null,
   "metadata": {},
   "outputs": [],
   "source": [
    "diff_performances = df[df[\"method\"] != \"before denoising\"] \n",
    "\n",
    "diff_ari_k = []\n",
    "for i in range(diff_performances.shape[0]):\n",
    "    temp = diff_performances.iloc[i,:]\n",
    "    e = temp[\"experiment\"]\n",
    "    diff_ari_k.append(temp[\"ARI kmeans\"] - ari_k_before[e])\n",
    "    \n",
    "diff_performances[\"ARI kmeans delta\"] = diff_ari_k\n",
    "\n"
   ]
  },
  {
   "cell_type": "code",
   "execution_count": 34,
   "metadata": {},
   "outputs": [],
   "source": [
    "#df_plot = diff_performances[~diff_performances['method'].isin(['saverx-human-Tcells', 'saverx-human-Immune'])]\n",
    "\n",
    "#denoisers_plot = [x for x in denoisers if x not in ['saverx-human-Tcells', 'saverx-human-Immune']]\n",
    "\n",
    "labels_den = ['ALRA',\n",
    " 'bayNorm',\n",
    " 'DCA',\n",
    " 'DeepImpute',\n",
    " 'DrImpute',\n",
    " 'ENHANCE',\n",
    " 'kNN-smoothing',\n",
    " 'MAGIC',\n",
    " 'SAVER',\n",
    " 'SAVER-X',\n",
    " 'scImpute',\n",
    " 'scRMD',\n",
    " 'VIPER']"
   ]
  },
  {
   "cell_type": "code",
   "execution_count": 10,
   "metadata": {},
   "outputs": [
    {
     "data": {
      "image/png": "[encoded data removed]",
      "text/plain": [
       "<Figure size 720x504 with 1 Axes>"
      ]
     },
     "metadata": {},
     "output_type": "display_data"
    }
   ],
   "source": [
    "import matplotlib.ticker as ticker\n",
    "sns.set(style='ticks',font='sans-serif')\n",
    "\n",
    "plt.rcParams.update({'xtick.labelsize': 14,\n",
    "                    'ytick.labelsize': 14,\n",
    "                    'axes.labelsize': 14,\n",
    "                    'axes.titlesize': 14,\n",
    "                    'text.color' : 'black',\n",
    "                    'axes.labelcolor': 'black',\n",
    "                     'axes.edgecolor': 'black',\n",
    "                     'axes.linewidth': 1,\n",
    "                    'font.family': 'sans-serif',\n",
    "                    'xtick.color' : 'black',\n",
    "                    'ytick.color':'black'})\n",
    "\n",
    "fig, ax1 = plt.subplots(1,1,figsize=(10, 7))\n",
    "pal = sns.color_palette('Paired', 12)\n",
    "pal = list(pal) + [(171/255,149/255,132/255)]\n",
    "\n",
    "sns.barplot(data=diff_performances,\n",
    "            x=\"ngenes\", \n",
    "            y = 'ARI kmeans delta', \n",
    "            hue='method',\n",
    "           palette= pal,\n",
    "           ax = ax1,\n",
    "           hue_order = sorted(denoisers, key=str.casefold))\n",
    "\n",
    "# Put edge around rectangles in legend\n",
    "plt.setp(ax1.patches, linewidth=1, edgecolor='0.5')\n",
    "\n",
    "for x in np.arange(0.5, 5):\n",
    "    ax1.axvline(x=x, color=\"grey\", linestyle=\"--\", linewidth=0.3)\n",
    "\n",
    "plt.grid(True, axis='y', color='grey', linewidth=0.3)\n",
    "L = plt.legend(loc=9, \n",
    "           ncol=4, \n",
    "           bbox_to_anchor=(0.5, -0.1), \n",
    "           fontsize=14,\n",
    "          frameon=True);\n",
    "# Rename labels in legend\n",
    "for i,d in enumerate(labels_den):\n",
    "    L.get_texts()[i].set_text(d)\n",
    "\n",
    "ax1.set_title(\"PBMC dataset\")\n",
    "ax1.set_xlabel(\"# of genes\")\n",
    "ax1.set_ylabel(\"ARI delta\");"
   ]
  }
 ],
 "metadata": {
  "kernelspec": {
   "display_name": "Python 3",
   "language": "python",
   "name": "python3"
  },
  "language_info": {
   "codemirror_mode": {
    "name": "ipython",
    "version": 3
   },
   "file_extension": ".py",
   "mimetype": "text/x-python",
   "name": "python",
   "nbconvert_exporter": "python",
   "pygments_lexer": "ipython3",
   "version": "3.8.2"
  }
 },
 "nbformat": 4,
 "nbformat_minor": 4
}
